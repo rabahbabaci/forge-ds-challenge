{
 "cells": [
  {
   "cell_type": "markdown",
   "id": "9b83323d",
   "metadata": {},
   "source": [
    "# Launch @ Forge — Data Science Challenge (Police Killings Dataset)\n",
    "\n",
    "**Goal:**\n",
    "Understand how socioeconomic and demographic factors relate to fatal police encounters in the U.S. (2015).\n",
    "\n",
    "**Questions to answer:**\n",
    "\n",
    "1. What are the affected demographic groups?\n",
    "2. In which areas (low-income/higer-poverty) are the incdents concentrated?\n",
    "3. Do certain states show higher per-capita rates?\n",
    "4. If time allows: does “armed vs unarmed” correlate with any tract-level features?\n",
    "\n",
    "**Framework & Tools:** Python (pandas, numpy, seaborn, matplotlib, plotly)"
   ]
  },
  {
   "cell_type": "code",
   "execution_count": null,
   "id": "2dc9a60d",
   "metadata": {},
   "outputs": [],
   "source": [
    "# setup & load data\n",
    "\n",
    "from pathlib import Path\n",
    "import pandas as pd, numpy as np\n",
    "import matplotlib.pyplot as plt\n",
    "import seaborn as sns\n",
    "\n",
    "# define necessary paths\n",
    "BASE = Path(\"..\").resolve()\n",
    "RAW = BASE / \"data\" / \"raw\"\n",
    "PROC = BASE / \"data\" / \"processed\"\n",
    "FIGS = BASE / \"visualizations\" / \" figures\""
   ]
  }
 ],
 "metadata": {
  "kernelspec": {
   "display_name": ".venv",
   "language": "python",
   "name": "python3"
  },
  "language_info": {
   "name": "python",
   "version": "3.12.7"
  }
 },
 "nbformat": 4,
 "nbformat_minor": 5
}
